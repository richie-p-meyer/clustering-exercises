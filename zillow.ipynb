{
 "cells": [
  {
   "cell_type": "code",
   "execution_count": 2,
   "id": "20b08ca4",
   "metadata": {},
   "outputs": [],
   "source": [
    "import pandas as pd\n",
    "import numpy as np\n",
    "import matplotlib.pyplot as plt\n",
    "import seaborn as sns\n",
    "\n",
    "import wrangle\n",
    "import env\n",
    "\n"
   ]
  },
  {
   "cell_type": "code",
   "execution_count": 3,
   "id": "f3acac3c",
   "metadata": {},
   "outputs": [
    {
     "name": "stderr",
     "output_type": "stream",
     "text": [
      "/opt/anaconda3/lib/python3.9/site-packages/IPython/core/interactiveshell.py:3442: DtypeWarning: Columns (64) have mixed types.Specify dtype option on import or set low_memory=False.\n",
      "  exec(code_obj, self.user_global_ns, self.user_ns)\n"
     ]
    }
   ],
   "source": [
    "df = pd.read_csv('zillow.csv')"
   ]
  },
  {
   "cell_type": "code",
   "execution_count": 4,
   "id": "9347d9a7",
   "metadata": {},
   "outputs": [
    {
     "data": {
      "text/plain": [
       "(77579, 69)"
      ]
     },
     "execution_count": 4,
     "metadata": {},
     "output_type": "execute_result"
    }
   ],
   "source": [
    "df.shape"
   ]
  },
  {
   "cell_type": "code",
   "execution_count": 5,
   "id": "67ce7f01",
   "metadata": {},
   "outputs": [
    {
     "data": {
      "text/html": [
       "<div>\n",
       "<style scoped>\n",
       "    .dataframe tbody tr th:only-of-type {\n",
       "        vertical-align: middle;\n",
       "    }\n",
       "\n",
       "    .dataframe tbody tr th {\n",
       "        vertical-align: top;\n",
       "    }\n",
       "\n",
       "    .dataframe thead th {\n",
       "        text-align: right;\n",
       "    }\n",
       "</style>\n",
       "<table border=\"1\" class=\"dataframe\">\n",
       "  <thead>\n",
       "    <tr style=\"text-align: right;\">\n",
       "      <th></th>\n",
       "      <th>parcelid</th>\n",
       "      <th>typeconstructiontypeid</th>\n",
       "      <th>storytypeid</th>\n",
       "      <th>propertylandusetypeid</th>\n",
       "      <th>heatingorsystemtypeid</th>\n",
       "      <th>buildingclasstypeid</th>\n",
       "      <th>architecturalstyletypeid</th>\n",
       "      <th>airconditioningtypeid</th>\n",
       "      <th>id</th>\n",
       "      <th>basementsqft</th>\n",
       "      <th>...</th>\n",
       "      <th>fireplaceflag</th>\n",
       "      <th>structuretaxvaluedollarcnt</th>\n",
       "      <th>taxvaluedollarcnt</th>\n",
       "      <th>assessmentyear</th>\n",
       "      <th>landtaxvaluedollarcnt</th>\n",
       "      <th>taxamount</th>\n",
       "      <th>taxdelinquencyyear</th>\n",
       "      <th>censustractandblock</th>\n",
       "      <th>id.1</th>\n",
       "      <th>logerror</th>\n",
       "    </tr>\n",
       "  </thead>\n",
       "  <tbody>\n",
       "    <tr>\n",
       "      <th>count</th>\n",
       "      <td>7.757900e+04</td>\n",
       "      <td>223.000000</td>\n",
       "      <td>50.0</td>\n",
       "      <td>77579.000000</td>\n",
       "      <td>49571.000000</td>\n",
       "      <td>15.000000</td>\n",
       "      <td>207.000000</td>\n",
       "      <td>25007.000000</td>\n",
       "      <td>7.757900e+04</td>\n",
       "      <td>50.000000</td>\n",
       "      <td>...</td>\n",
       "      <td>172.0</td>\n",
       "      <td>7.746400e+04</td>\n",
       "      <td>7.757800e+04</td>\n",
       "      <td>77579.0</td>\n",
       "      <td>7.757700e+04</td>\n",
       "      <td>77574.000000</td>\n",
       "      <td>2900.000000</td>\n",
       "      <td>7.733200e+04</td>\n",
       "      <td>77579.000000</td>\n",
       "      <td>77579.000000</td>\n",
       "    </tr>\n",
       "    <tr>\n",
       "      <th>mean</th>\n",
       "      <td>1.300828e+07</td>\n",
       "      <td>6.040359</td>\n",
       "      <td>7.0</td>\n",
       "      <td>261.824476</td>\n",
       "      <td>3.921749</td>\n",
       "      <td>3.933333</td>\n",
       "      <td>7.386473</td>\n",
       "      <td>1.812013</td>\n",
       "      <td>1.495392e+06</td>\n",
       "      <td>679.720000</td>\n",
       "      <td>...</td>\n",
       "      <td>1.0</td>\n",
       "      <td>1.892811e+05</td>\n",
       "      <td>4.901506e+05</td>\n",
       "      <td>2016.0</td>\n",
       "      <td>3.011515e+05</td>\n",
       "      <td>5995.961788</td>\n",
       "      <td>14.088276</td>\n",
       "      <td>6.049667e+13</td>\n",
       "      <td>38806.223579</td>\n",
       "      <td>0.016803</td>\n",
       "    </tr>\n",
       "    <tr>\n",
       "      <th>std</th>\n",
       "      <td>3.519399e+06</td>\n",
       "      <td>0.556035</td>\n",
       "      <td>0.0</td>\n",
       "      <td>5.141596</td>\n",
       "      <td>3.594780</td>\n",
       "      <td>0.258199</td>\n",
       "      <td>2.728030</td>\n",
       "      <td>2.965768</td>\n",
       "      <td>8.609686e+05</td>\n",
       "      <td>689.703546</td>\n",
       "      <td>...</td>\n",
       "      <td>0.0</td>\n",
       "      <td>2.304107e+05</td>\n",
       "      <td>6.537979e+05</td>\n",
       "      <td>0.0</td>\n",
       "      <td>4.927249e+05</td>\n",
       "      <td>7628.859728</td>\n",
       "      <td>2.181281</td>\n",
       "      <td>1.533339e+12</td>\n",
       "      <td>22403.467491</td>\n",
       "      <td>0.170738</td>\n",
       "    </tr>\n",
       "    <tr>\n",
       "      <th>min</th>\n",
       "      <td>1.071186e+07</td>\n",
       "      <td>4.000000</td>\n",
       "      <td>7.0</td>\n",
       "      <td>31.000000</td>\n",
       "      <td>1.000000</td>\n",
       "      <td>3.000000</td>\n",
       "      <td>2.000000</td>\n",
       "      <td>1.000000</td>\n",
       "      <td>3.490000e+02</td>\n",
       "      <td>38.000000</td>\n",
       "      <td>...</td>\n",
       "      <td>1.0</td>\n",
       "      <td>4.400000e+01</td>\n",
       "      <td>1.000000e+03</td>\n",
       "      <td>2016.0</td>\n",
       "      <td>1.610000e+02</td>\n",
       "      <td>19.920000</td>\n",
       "      <td>3.000000</td>\n",
       "      <td>6.037101e+13</td>\n",
       "      <td>0.000000</td>\n",
       "      <td>-4.655420</td>\n",
       "    </tr>\n",
       "    <tr>\n",
       "      <th>25%</th>\n",
       "      <td>1.153820e+07</td>\n",
       "      <td>6.000000</td>\n",
       "      <td>7.0</td>\n",
       "      <td>261.000000</td>\n",
       "      <td>2.000000</td>\n",
       "      <td>4.000000</td>\n",
       "      <td>7.000000</td>\n",
       "      <td>1.000000</td>\n",
       "      <td>7.521420e+05</td>\n",
       "      <td>273.000000</td>\n",
       "      <td>...</td>\n",
       "      <td>1.0</td>\n",
       "      <td>8.417925e+04</td>\n",
       "      <td>2.068985e+05</td>\n",
       "      <td>2016.0</td>\n",
       "      <td>8.529300e+04</td>\n",
       "      <td>2712.630000</td>\n",
       "      <td>14.000000</td>\n",
       "      <td>6.037311e+13</td>\n",
       "      <td>19404.500000</td>\n",
       "      <td>-0.024309</td>\n",
       "    </tr>\n",
       "    <tr>\n",
       "      <th>50%</th>\n",
       "      <td>1.253054e+07</td>\n",
       "      <td>6.000000</td>\n",
       "      <td>7.0</td>\n",
       "      <td>261.000000</td>\n",
       "      <td>2.000000</td>\n",
       "      <td>4.000000</td>\n",
       "      <td>7.000000</td>\n",
       "      <td>1.000000</td>\n",
       "      <td>1.498227e+06</td>\n",
       "      <td>515.000000</td>\n",
       "      <td>...</td>\n",
       "      <td>1.0</td>\n",
       "      <td>1.364045e+05</td>\n",
       "      <td>3.588785e+05</td>\n",
       "      <td>2016.0</td>\n",
       "      <td>2.031880e+05</td>\n",
       "      <td>4448.265000</td>\n",
       "      <td>15.000000</td>\n",
       "      <td>6.037603e+13</td>\n",
       "      <td>38804.000000</td>\n",
       "      <td>0.006676</td>\n",
       "    </tr>\n",
       "    <tr>\n",
       "      <th>75%</th>\n",
       "      <td>1.421136e+07</td>\n",
       "      <td>6.000000</td>\n",
       "      <td>7.0</td>\n",
       "      <td>266.000000</td>\n",
       "      <td>7.000000</td>\n",
       "      <td>4.000000</td>\n",
       "      <td>7.000000</td>\n",
       "      <td>1.000000</td>\n",
       "      <td>2.240879e+06</td>\n",
       "      <td>796.500000</td>\n",
       "      <td>...</td>\n",
       "      <td>1.0</td>\n",
       "      <td>2.187340e+05</td>\n",
       "      <td>5.690000e+05</td>\n",
       "      <td>2016.0</td>\n",
       "      <td>3.667530e+05</td>\n",
       "      <td>6926.917500</td>\n",
       "      <td>15.000000</td>\n",
       "      <td>6.059042e+13</td>\n",
       "      <td>58207.500000</td>\n",
       "      <td>0.039291</td>\n",
       "    </tr>\n",
       "    <tr>\n",
       "      <th>max</th>\n",
       "      <td>1.676893e+08</td>\n",
       "      <td>13.000000</td>\n",
       "      <td>7.0</td>\n",
       "      <td>275.000000</td>\n",
       "      <td>24.000000</td>\n",
       "      <td>4.000000</td>\n",
       "      <td>21.000000</td>\n",
       "      <td>13.000000</td>\n",
       "      <td>2.982274e+06</td>\n",
       "      <td>3560.000000</td>\n",
       "      <td>...</td>\n",
       "      <td>1.0</td>\n",
       "      <td>1.142179e+07</td>\n",
       "      <td>4.906124e+07</td>\n",
       "      <td>2016.0</td>\n",
       "      <td>4.895220e+07</td>\n",
       "      <td>586639.300000</td>\n",
       "      <td>99.000000</td>\n",
       "      <td>4.830301e+14</td>\n",
       "      <td>77612.000000</td>\n",
       "      <td>5.262999</td>\n",
       "    </tr>\n",
       "  </tbody>\n",
       "</table>\n",
       "<p>8 rows × 58 columns</p>\n",
       "</div>"
      ],
      "text/plain": [
       "           parcelid  typeconstructiontypeid  storytypeid  \\\n",
       "count  7.757900e+04              223.000000         50.0   \n",
       "mean   1.300828e+07                6.040359          7.0   \n",
       "std    3.519399e+06                0.556035          0.0   \n",
       "min    1.071186e+07                4.000000          7.0   \n",
       "25%    1.153820e+07                6.000000          7.0   \n",
       "50%    1.253054e+07                6.000000          7.0   \n",
       "75%    1.421136e+07                6.000000          7.0   \n",
       "max    1.676893e+08               13.000000          7.0   \n",
       "\n",
       "       propertylandusetypeid  heatingorsystemtypeid  buildingclasstypeid  \\\n",
       "count           77579.000000           49571.000000            15.000000   \n",
       "mean              261.824476               3.921749             3.933333   \n",
       "std                 5.141596               3.594780             0.258199   \n",
       "min                31.000000               1.000000             3.000000   \n",
       "25%               261.000000               2.000000             4.000000   \n",
       "50%               261.000000               2.000000             4.000000   \n",
       "75%               266.000000               7.000000             4.000000   \n",
       "max               275.000000              24.000000             4.000000   \n",
       "\n",
       "       architecturalstyletypeid  airconditioningtypeid            id  \\\n",
       "count                207.000000           25007.000000  7.757900e+04   \n",
       "mean                   7.386473               1.812013  1.495392e+06   \n",
       "std                    2.728030               2.965768  8.609686e+05   \n",
       "min                    2.000000               1.000000  3.490000e+02   \n",
       "25%                    7.000000               1.000000  7.521420e+05   \n",
       "50%                    7.000000               1.000000  1.498227e+06   \n",
       "75%                    7.000000               1.000000  2.240879e+06   \n",
       "max                   21.000000              13.000000  2.982274e+06   \n",
       "\n",
       "       basementsqft  ...  fireplaceflag  structuretaxvaluedollarcnt  \\\n",
       "count     50.000000  ...          172.0                7.746400e+04   \n",
       "mean     679.720000  ...            1.0                1.892811e+05   \n",
       "std      689.703546  ...            0.0                2.304107e+05   \n",
       "min       38.000000  ...            1.0                4.400000e+01   \n",
       "25%      273.000000  ...            1.0                8.417925e+04   \n",
       "50%      515.000000  ...            1.0                1.364045e+05   \n",
       "75%      796.500000  ...            1.0                2.187340e+05   \n",
       "max     3560.000000  ...            1.0                1.142179e+07   \n",
       "\n",
       "       taxvaluedollarcnt  assessmentyear  landtaxvaluedollarcnt  \\\n",
       "count       7.757800e+04         77579.0           7.757700e+04   \n",
       "mean        4.901506e+05          2016.0           3.011515e+05   \n",
       "std         6.537979e+05             0.0           4.927249e+05   \n",
       "min         1.000000e+03          2016.0           1.610000e+02   \n",
       "25%         2.068985e+05          2016.0           8.529300e+04   \n",
       "50%         3.588785e+05          2016.0           2.031880e+05   \n",
       "75%         5.690000e+05          2016.0           3.667530e+05   \n",
       "max         4.906124e+07          2016.0           4.895220e+07   \n",
       "\n",
       "           taxamount  taxdelinquencyyear  censustractandblock          id.1  \\\n",
       "count   77574.000000         2900.000000         7.733200e+04  77579.000000   \n",
       "mean     5995.961788           14.088276         6.049667e+13  38806.223579   \n",
       "std      7628.859728            2.181281         1.533339e+12  22403.467491   \n",
       "min        19.920000            3.000000         6.037101e+13      0.000000   \n",
       "25%      2712.630000           14.000000         6.037311e+13  19404.500000   \n",
       "50%      4448.265000           15.000000         6.037603e+13  38804.000000   \n",
       "75%      6926.917500           15.000000         6.059042e+13  58207.500000   \n",
       "max    586639.300000           99.000000         4.830301e+14  77612.000000   \n",
       "\n",
       "           logerror  \n",
       "count  77579.000000  \n",
       "mean       0.016803  \n",
       "std        0.170738  \n",
       "min       -4.655420  \n",
       "25%       -0.024309  \n",
       "50%        0.006676  \n",
       "75%        0.039291  \n",
       "max        5.262999  \n",
       "\n",
       "[8 rows x 58 columns]"
      ]
     },
     "execution_count": 5,
     "metadata": {},
     "output_type": "execute_result"
    }
   ],
   "source": [
    "df.describe()"
   ]
  },
  {
   "cell_type": "code",
   "execution_count": 6,
   "id": "4cfd76ec",
   "metadata": {},
   "outputs": [
    {
     "name": "stdout",
     "output_type": "stream",
     "text": [
      "<class 'pandas.core.frame.DataFrame'>\n",
      "RangeIndex: 77579 entries, 0 to 77578\n",
      "Data columns (total 69 columns):\n",
      " #   Column                        Non-Null Count  Dtype  \n",
      "---  ------                        --------------  -----  \n",
      " 0   parcelid                      77579 non-null  int64  \n",
      " 1   typeconstructiontypeid        223 non-null    float64\n",
      " 2   storytypeid                   50 non-null     float64\n",
      " 3   propertylandusetypeid         77579 non-null  float64\n",
      " 4   heatingorsystemtypeid         49571 non-null  float64\n",
      " 5   buildingclasstypeid           15 non-null     float64\n",
      " 6   architecturalstyletypeid      207 non-null    float64\n",
      " 7   airconditioningtypeid         25007 non-null  float64\n",
      " 8   id                            77579 non-null  int64  \n",
      " 9   basementsqft                  50 non-null     float64\n",
      " 10  bathroomcnt                   77579 non-null  float64\n",
      " 11  bedroomcnt                    77579 non-null  float64\n",
      " 12  buildingqualitytypeid         49809 non-null  float64\n",
      " 13  calculatedbathnbr             76963 non-null  float64\n",
      " 14  decktypeid                    614 non-null    float64\n",
      " 15  finishedfloor1squarefeet      6037 non-null   float64\n",
      " 16  calculatedfinishedsquarefeet  77378 non-null  float64\n",
      " 17  finishedsquarefeet12          73923 non-null  float64\n",
      " 18  finishedsquarefeet13          42 non-null     float64\n",
      " 19  finishedsquarefeet15          3027 non-null   float64\n",
      " 20  finishedsquarefeet50          6037 non-null   float64\n",
      " 21  finishedsquarefeet6           386 non-null    float64\n",
      " 22  fips                          77579 non-null  float64\n",
      " 23  fireplacecnt                  8289 non-null   float64\n",
      " 24  fullbathcnt                   76963 non-null  float64\n",
      " 25  garagecarcnt                  25520 non-null  float64\n",
      " 26  garagetotalsqft               25520 non-null  float64\n",
      " 27  hashottuborspa                1539 non-null   float64\n",
      " 28  latitude                      77579 non-null  float64\n",
      " 29  longitude                     77579 non-null  float64\n",
      " 30  lotsizesquarefeet             69321 non-null  float64\n",
      " 31  poolcnt                       16174 non-null  float64\n",
      " 32  poolsizesum                   869 non-null    float64\n",
      " 33  pooltypeid10                  465 non-null    float64\n",
      " 34  pooltypeid2                   1074 non-null   float64\n",
      " 35  pooltypeid7                   15079 non-null  float64\n",
      " 36  propertycountylandusecode     77579 non-null  object \n",
      " 37  propertyzoningdesc            50476 non-null  object \n",
      " 38  rawcensustractandblock        77579 non-null  float64\n",
      " 39  regionidcity                  76107 non-null  float64\n",
      " 40  regionidcounty                77579 non-null  float64\n",
      " 41  regionidneighborhood          30974 non-null  float64\n",
      " 42  regionidzip                   77529 non-null  float64\n",
      " 43  roomcnt                       77579 non-null  float64\n",
      " 44  threequarterbathnbr           10106 non-null  float64\n",
      " 45  unitcnt                       50703 non-null  float64\n",
      " 46  yardbuildingsqft17            2393 non-null   float64\n",
      " 47  yardbuildingsqft26            70 non-null     float64\n",
      " 48  yearbuilt                     77309 non-null  float64\n",
      " 49  numberofstories               17599 non-null  float64\n",
      " 50  fireplaceflag                 172 non-null    float64\n",
      " 51  structuretaxvaluedollarcnt    77464 non-null  float64\n",
      " 52  taxvaluedollarcnt             77578 non-null  float64\n",
      " 53  assessmentyear                77579 non-null  float64\n",
      " 54  landtaxvaluedollarcnt         77577 non-null  float64\n",
      " 55  taxamount                     77574 non-null  float64\n",
      " 56  taxdelinquencyflag            2900 non-null   object \n",
      " 57  taxdelinquencyyear            2900 non-null   float64\n",
      " 58  censustractandblock           77332 non-null  float64\n",
      " 59  id.1                          77579 non-null  int64  \n",
      " 60  logerror                      77579 non-null  float64\n",
      " 61  transactiondate               77579 non-null  object \n",
      " 62  airconditioningdesc           25007 non-null  object \n",
      " 63  architecturalstyledesc        207 non-null    object \n",
      " 64  buildingclassdesc             15 non-null     object \n",
      " 65  heatingorsystemdesc           49571 non-null  object \n",
      " 66  propertylandusedesc           77579 non-null  object \n",
      " 67  storydesc                     50 non-null     object \n",
      " 68  typeconstructiondesc          223 non-null    object \n",
      "dtypes: float64(55), int64(3), object(11)\n",
      "memory usage: 40.8+ MB\n"
     ]
    }
   ],
   "source": [
    "df.info()"
   ]
  },
  {
   "cell_type": "markdown",
   "id": "f6a0f015",
   "metadata": {},
   "source": [
    "Write a function that takes in a dataframe of observations and attributes and returns a dataframe where each row is an atttribute name, the first column is the number of rows with missing values for that attribute, and the second column is percent of total rows that have missing values for that attribute. Run the function and document takeaways from this on how you want to handle missing values."
   ]
  },
  {
   "cell_type": "code",
   "execution_count": null,
   "id": "2b573ce8",
   "metadata": {},
   "outputs": [],
   "source": [
    "def explore_nulls(df):    \n",
    "    column_name = []\n",
    "    null_count = []\n",
    "    null_perc = []\n",
    "\n",
    "    for col in df.columns:\n",
    "        row_count = df.shape[0]\n",
    "        isna = df[col].isnull().sum()\n",
    "        missing = isna/row_count\n",
    "        column_name.append(col)\n",
    "        null_count.append(isna)\n",
    "        null_perc.append(isna/row_count)\n",
    "\n",
    "    return pd.DataFrame({'column_name':column_name,'null_count':null_count,'null_percent':null_perc})"
   ]
  },
  {
   "cell_type": "code",
   "execution_count": null,
   "id": "159615b0",
   "metadata": {},
   "outputs": [],
   "source": [
    "# Esteban's way\n",
    "def explore_nulls(df):\n",
    "    null_count = df.isnull().sum()\n",
    "    null_perc = df.isnull().sum()/df.shape[0]\n",
    "    return pd.DataFrame({'null_count':null_count,'null_perc':null_perc})"
   ]
  },
  {
   "cell_type": "code",
   "execution_count": null,
   "id": "ae5c82a8",
   "metadata": {},
   "outputs": [],
   "source": [
    "df = test(df)"
   ]
  },
  {
   "cell_type": "code",
   "execution_count": null,
   "id": "17320639",
   "metadata": {},
   "outputs": [],
   "source": [
    "df.reset_index()"
   ]
  },
  {
   "cell_type": "code",
   "execution_count": null,
   "id": "5290d20a",
   "metadata": {},
   "outputs": [],
   "source": [
    "explore_nulls(df)"
   ]
  },
  {
   "cell_type": "markdown",
   "id": "064ca8a0",
   "metadata": {},
   "source": [
    "Remove any properties that are likely to be something other than single unit properties. (e.g. no duplexes, no land/lot, ...). There are multiple ways to estimate that a property is a single unit, and there is not a single \"right\" answer."
   ]
  },
  {
   "cell_type": "code",
   "execution_count": null,
   "id": "9e29d0f1",
   "metadata": {},
   "outputs": [],
   "source": [
    "single_unit =['Single Family Residential','Mobile Home','Manufactured, Modular, Prefabricated Homes','Residential General']"
   ]
  },
  {
   "cell_type": "code",
   "execution_count": null,
   "id": "2423333c",
   "metadata": {},
   "outputs": [],
   "source": [
    "df = df[df.propertylandusedesc.isin(single_unit)]"
   ]
  },
  {
   "cell_type": "code",
   "execution_count": null,
   "id": "5e389ff7",
   "metadata": {},
   "outputs": [],
   "source": [
    "def handle_missing_values(df, prop_required_column, prop_required_row):\n",
    "    temp = explore_nulls(df) \n",
    "    cols_drop = temp[temp.null_percent>prop_required_column]['column_name'].values.tolist()\n",
    "    df.drop(cols_drop,axis=1)\n",
    "\n",
    "    df['row_missing'] = df.isnull().sum(axis=1)/df.shape[1] #These two lines take care of the rows\n",
    "    df.drop(df[df.row_missing>.4].index)\n",
    "    \n",
    "    return df"
   ]
  },
  {
   "cell_type": "code",
   "execution_count": null,
   "id": "a7921c98",
   "metadata": {},
   "outputs": [],
   "source": [
    "handle_missing_values(df,.3,.3)"
   ]
  },
  {
   "cell_type": "code",
   "execution_count": null,
   "id": "5bf60a08",
   "metadata": {},
   "outputs": [],
   "source": [
    "df.drop(df[df.row_missing>.4].index)\n"
   ]
  },
  {
   "cell_type": "code",
   "execution_count": null,
   "id": "f001e2c1",
   "metadata": {},
   "outputs": [],
   "source": [
    "test.head()"
   ]
  },
  {
   "cell_type": "code",
   "execution_count": null,
   "id": "512f3fbd",
   "metadata": {},
   "outputs": [],
   "source": [
    "test = explore_nulls(df)"
   ]
  },
  {
   "cell_type": "code",
   "execution_count": null,
   "id": "d1fd026e",
   "metadata": {},
   "outputs": [],
   "source": []
  },
  {
   "cell_type": "markdown",
   "id": "4471a5ba",
   "metadata": {},
   "source": [
    "Acquire data from the customers table in the mall_customers database."
   ]
  },
  {
   "cell_type": "code",
   "execution_count": null,
   "id": "997b8cec",
   "metadata": {},
   "outputs": [],
   "source": [
    "import wrangle"
   ]
  },
  {
   "cell_type": "code",
   "execution_count": null,
   "id": "3c0b23cd",
   "metadata": {},
   "outputs": [],
   "source": [
    "url = env.get_connection('mall_customers')\n",
    "query = 'select * from customers'\n",
    "df = pd.read_sql(query,url)"
   ]
  },
  {
   "cell_type": "code",
   "execution_count": null,
   "id": "12f350d0",
   "metadata": {},
   "outputs": [],
   "source": [
    "df.head()"
   ]
  },
  {
   "cell_type": "code",
   "execution_count": null,
   "id": "c2dd8e1a",
   "metadata": {},
   "outputs": [],
   "source": [
    "df = wrangle.assign_outlier(df,['age','annual_income','spending_score'])"
   ]
  },
  {
   "cell_type": "code",
   "execution_count": null,
   "id": "1233c876",
   "metadata": {},
   "outputs": [],
   "source": [
    "outliers_cols = [col for col in df.columns if 'outliers' in col]"
   ]
  },
  {
   "cell_type": "code",
   "execution_count": null,
   "id": "b033940e",
   "metadata": {},
   "outputs": [],
   "source": [
    "df[df[outliers_cols].any()==1]"
   ]
  },
  {
   "cell_type": "code",
   "execution_count": null,
   "id": "07839a89",
   "metadata": {},
   "outputs": [],
   "source": [
    "def print_outliers(df):\n",
    "    return df[df[outliers_cols].any(axis=1)==1]"
   ]
  },
  {
   "cell_type": "code",
   "execution_count": null,
   "id": "610f5ae6",
   "metadata": {},
   "outputs": [],
   "source": [
    "print_outliers(df)"
   ]
  },
  {
   "cell_type": "code",
   "execution_count": null,
   "id": "e26a80b5",
   "metadata": {},
   "outputs": [],
   "source": [
    "df[df[outliers_cols].any(axis=1)==1]"
   ]
  },
  {
   "cell_type": "code",
   "execution_count": null,
   "id": "73b160cc",
   "metadata": {},
   "outputs": [],
   "source": []
  }
 ],
 "metadata": {
  "kernelspec": {
   "display_name": "Python 3 (ipykernel)",
   "language": "python",
   "name": "python3"
  },
  "language_info": {
   "codemirror_mode": {
    "name": "ipython",
    "version": 3
   },
   "file_extension": ".py",
   "mimetype": "text/x-python",
   "name": "python",
   "nbconvert_exporter": "python",
   "pygments_lexer": "ipython3",
   "version": "3.9.7"
  }
 },
 "nbformat": 4,
 "nbformat_minor": 5
}
