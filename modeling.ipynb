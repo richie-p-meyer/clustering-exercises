{
 "cells": [
  {
   "cell_type": "code",
   "execution_count": 1,
   "id": "ed81aa1e",
   "metadata": {},
   "outputs": [],
   "source": [
    "import pandas as pd\n",
    "import numpy as np\n",
    "\n",
    "import matplotlib.pyplot as plt\n",
    "import seaborn as sns\n",
    "\n",
    "from sklearn.cluster import KMeans\n",
    "\n",
    "import wrangle\n",
    "import env"
   ]
  },
  {
   "cell_type": "code",
   "execution_count": 2,
   "id": "4d7dd03d",
   "metadata": {},
   "outputs": [],
   "source": [
    "url = env.get_connection('mall_customers')\n",
    "query = 'select * from customers'\n",
    "df = pd.read_sql(query,url)"
   ]
  },
  {
   "cell_type": "code",
   "execution_count": 21,
   "id": "7b66ec30",
   "metadata": {},
   "outputs": [],
   "source": [
    "train, X_train, y_train, X_val, y_val, X_test, y_test = wrangle.split_data(df,'gender')"
   ]
  },
  {
   "cell_type": "code",
   "execution_count": 22,
   "id": "be83f81f",
   "metadata": {},
   "outputs": [],
   "source": [
    "X_train,X_val,X_test = wrangle.scale_minmax(X_train,X_val,X_test)"
   ]
  },
  {
   "cell_type": "code",
   "execution_count": 23,
   "id": "88bd6067",
   "metadata": {},
   "outputs": [
    {
     "data": {
      "text/plain": [
       "<seaborn.axisgrid.FacetGrid at 0x7fea21d6b640>"
      ]
     },
     "execution_count": 23,
     "metadata": {},
     "output_type": "execute_result"
    },
    {
     "data": {
      "image/png": "[encoded data removed]",
      "text/plain": [
       "<Figure size 360x360 with 1 Axes>"
      ]
     },
     "metadata": {
      "needs_background": "light"
     },
     "output_type": "display_data"
    }
   ],
   "source": [
    "sns.relplot(data=X_train,x='annual_income',y='spending_score')"
   ]
  },
  {
   "cell_type": "code",
   "execution_count": 24,
   "id": "cd92cf0e",
   "metadata": {},
   "outputs": [],
   "source": [
    "inertia = []\n",
    "seed = 21\n",
    "for k in range(1,10):\n",
    "    kmeans = KMeans(n_clusters=k, random_state=seed)\n",
    "    kmeans.fit(X_train[['annual_income','spending_score']])\n",
    "    inertia.append(kmeans.inertia_)"
   ]
  },
  {
   "cell_type": "code",
   "execution_count": 25,
   "id": "78f269e3",
   "metadata": {},
   "outputs": [],
   "source": [
    "clust_inert = pd.DataFrame({'n_clusters':list(range(1,10)),'inertia':inertia})"
   ]
  },
  {
   "cell_type": "code",
   "execution_count": 26,
   "id": "57e0da57",
   "metadata": {},
   "outputs": [
    {
     "data": {
      "text/plain": [
       "<seaborn.axisgrid.FacetGrid at 0x7fea28f4f5b0>"
      ]
     },
     "execution_count": 26,
     "metadata": {},
     "output_type": "execute_result"
    },
    {
     "data": {
      "image/png": "[encoded data removed]",
      "text/plain": [
       "<Figure size 360x360 with 1 Axes>"
      ]
     },
     "metadata": {
      "needs_background": "light"
     },
     "output_type": "display_data"
    }
   ],
   "source": [
    "sns.relplot(data=clust_inert,x='n_clusters',y='inertia',kind='line')"
   ]
  },
  {
   "cell_type": "markdown",
   "id": "30efa795",
   "metadata": {},
   "source": [
    "Our largest acute angle is at n_clusters = 5"
   ]
  },
  {
   "cell_type": "code",
   "execution_count": 28,
   "id": "70fd489f",
   "metadata": {},
   "outputs": [
    {
     "data": {
      "text/plain": [
       "KMeans(n_clusters=5, random_state=21)"
      ]
     },
     "execution_count": 28,
     "metadata": {},
     "output_type": "execute_result"
    }
   ],
   "source": [
    "kmeans = KMeans(n_clusters=5, random_state=seed)\n",
    "kmeans.fit(X_train[['annual_income','spending_score']])"
   ]
  },
  {
   "cell_type": "code",
   "execution_count": 30,
   "id": "39d4c1d0",
   "metadata": {},
   "outputs": [],
   "source": [
    "X_train['cluster'] = kmeans.predict(X_train[['annual_income','spending_score']])"
   ]
  },
  {
   "cell_type": "code",
   "execution_count": 31,
   "id": "a27fc443",
   "metadata": {},
   "outputs": [
    {
     "data": {
      "text/html": [
       "<div>\n",
       "<style scoped>\n",
       "    .dataframe tbody tr th:only-of-type {\n",
       "        vertical-align: middle;\n",
       "    }\n",
       "\n",
       "    .dataframe tbody tr th {\n",
       "        vertical-align: top;\n",
       "    }\n",
       "\n",
       "    .dataframe thead th {\n",
       "        text-align: right;\n",
       "    }\n",
       "</style>\n",
       "<table border=\"1\" class=\"dataframe\">\n",
       "  <thead>\n",
       "    <tr style=\"text-align: right;\">\n",
       "      <th></th>\n",
       "      <th>customer_id</th>\n",
       "      <th>age</th>\n",
       "      <th>annual_income</th>\n",
       "      <th>spending_score</th>\n",
       "      <th>cluster</th>\n",
       "    </tr>\n",
       "  </thead>\n",
       "  <tbody>\n",
       "    <tr>\n",
       "      <th>135</th>\n",
       "      <td>0.678392</td>\n",
       "      <td>0.211538</td>\n",
       "      <td>0.475410</td>\n",
       "      <td>0.887755</td>\n",
       "      <td>2</td>\n",
       "    </tr>\n",
       "    <tr>\n",
       "      <th>78</th>\n",
       "      <td>0.391960</td>\n",
       "      <td>0.096154</td>\n",
       "      <td>0.319672</td>\n",
       "      <td>0.520408</td>\n",
       "      <td>1</td>\n",
       "    </tr>\n",
       "    <tr>\n",
       "      <th>50</th>\n",
       "      <td>0.251256</td>\n",
       "      <td>0.596154</td>\n",
       "      <td>0.221311</td>\n",
       "      <td>0.520408</td>\n",
       "      <td>1</td>\n",
       "    </tr>\n",
       "    <tr>\n",
       "      <th>163</th>\n",
       "      <td>0.819095</td>\n",
       "      <td>0.250000</td>\n",
       "      <td>0.540984</td>\n",
       "      <td>0.938776</td>\n",
       "      <td>2</td>\n",
       "    </tr>\n",
       "    <tr>\n",
       "      <th>141</th>\n",
       "      <td>0.708543</td>\n",
       "      <td>0.269231</td>\n",
       "      <td>0.491803</td>\n",
       "      <td>0.938776</td>\n",
       "      <td>2</td>\n",
       "    </tr>\n",
       "  </tbody>\n",
       "</table>\n",
       "</div>"
      ],
      "text/plain": [
       "     customer_id       age  annual_income  spending_score  cluster\n",
       "135     0.678392  0.211538       0.475410        0.887755        2\n",
       "78      0.391960  0.096154       0.319672        0.520408        1\n",
       "50      0.251256  0.596154       0.221311        0.520408        1\n",
       "163     0.819095  0.250000       0.540984        0.938776        2\n",
       "141     0.708543  0.269231       0.491803        0.938776        2"
      ]
     },
     "execution_count": 31,
     "metadata": {},
     "output_type": "execute_result"
    }
   ],
   "source": [
    "X_train.head()"
   ]
  },
  {
   "cell_type": "code",
   "execution_count": 32,
   "id": "2fd513d7",
   "metadata": {},
   "outputs": [
    {
     "data": {
      "text/plain": [
       "<seaborn.axisgrid.FacetGrid at 0x7fea3034a3a0>"
      ]
     },
     "execution_count": 32,
     "metadata": {},
     "output_type": "execute_result"
    },
    {
     "data": {
      "image/png": "[encoded data removed]",
      "text/plain": [
       "<Figure size 402.375x360 with 1 Axes>"
      ]
     },
     "metadata": {
      "needs_background": "light"
     },
     "output_type": "display_data"
    }
   ],
   "source": [
    "sns.relplot(data=X_train,x='annual_income',y='spending_score',hue='cluster')"
   ]
  },
  {
   "cell_type": "code",
   "execution_count": 33,
   "id": "44cd89bd",
   "metadata": {},
   "outputs": [],
   "source": [
    "inertia = []\n",
    "seed = 21\n",
    "for k in range(1,10):\n",
    "    kmeans = KMeans(n_clusters=k, random_state=seed)\n",
    "    kmeans.fit(X_train[['annual_income','spending_score','age']])\n",
    "    inertia.append(kmeans.inertia_)"
   ]
  },
  {
   "cell_type": "code",
   "execution_count": 34,
   "id": "286f0f72",
   "metadata": {},
   "outputs": [],
   "source": [
    "clust_inert = pd.DataFrame({'n_clusters':list(range(1,10)),'inertia':inertia})"
   ]
  },
  {
   "cell_type": "code",
   "execution_count": 35,
   "id": "71ba19cc",
   "metadata": {},
   "outputs": [
    {
     "data": {
      "text/plain": [
       "<seaborn.axisgrid.FacetGrid at 0x7fea29161340>"
      ]
     },
     "execution_count": 35,
     "metadata": {},
     "output_type": "execute_result"
    },
    {
     "data": {
      "image/png": "[encoded data removed]",
      "text/plain": [
       "<Figure size 360x360 with 1 Axes>"
      ]
     },
     "metadata": {
      "needs_background": "light"
     },
     "output_type": "display_data"
    }
   ],
   "source": [
    "sns.relplot(data=clust_inert,x='n_clusters',y='inertia',kind='line')"
   ]
  },
  {
   "cell_type": "markdown",
   "id": "a2acda51",
   "metadata": {},
   "source": [
    "Largest acute angle is at n_clusters =4"
   ]
  },
  {
   "cell_type": "code",
   "execution_count": 36,
   "id": "6d175f78",
   "metadata": {},
   "outputs": [
    {
     "data": {
      "text/plain": [
       "array([2, 1, 4, 2, 2, 1, 1, 3, 1, 1, 1, 1, 0, 2, 3, 1, 3, 2, 1, 1, 3, 0,\n",
       "       0, 1, 3, 2, 1, 0, 0, 0, 2, 2, 1, 1, 2, 0, 1, 0, 0, 1, 0, 2, 4, 4,\n",
       "       3, 2, 2, 2, 1, 2, 1, 1, 2, 2, 1, 0, 2, 3, 1, 4, 1, 2, 3, 0, 4, 0,\n",
       "       4, 1, 2, 2, 3, 4, 3, 3, 4, 1, 4, 4, 4, 4, 1, 4, 4, 0, 4, 4, 1, 4,\n",
       "       0, 2, 0, 4, 3, 0, 0, 1, 4, 1, 4, 1, 0, 1, 4, 4, 4, 1, 4, 2, 2, 0,\n",
       "       4, 1], dtype=int32)"
      ]
     },
     "execution_count": 36,
     "metadata": {},
     "output_type": "execute_result"
    }
   ],
   "source": [
    "kmeans = KMeans(n_clusters=5, random_state=seed)\n",
    "kmeans.fit(X_train[['annual_income','spending_score','age']])\n",
    "kmeans.predict(X_train[['annual_income','spending_score','age']])"
   ]
  },
  {
   "cell_type": "code",
   "execution_count": null,
   "id": "40e4a899",
   "metadata": {},
   "outputs": [],
   "source": []
  }
 ],
 "metadata": {
  "kernelspec": {
   "display_name": "Python 3 (ipykernel)",
   "language": "python",
   "name": "python3"
  },
  "language_info": {
   "codemirror_mode": {
    "name": "ipython",
    "version": 3
   },
   "file_extension": ".py",
   "mimetype": "text/x-python",
   "name": "python",
   "nbconvert_exporter": "python",
   "pygments_lexer": "ipython3",
   "version": "3.9.7"
  }
 },
 "nbformat": 4,
 "nbformat_minor": 5
}
